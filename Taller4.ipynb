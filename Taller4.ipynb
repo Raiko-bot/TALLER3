{
  "nbformat": 4,
  "nbformat_minor": 0,
  "metadata": {
    "colab": {
      "provenance": [],
      "authorship_tag": "ABX9TyPsnfmB/cOJDAm5Qg5G1x/l",
      "include_colab_link": true
    },
    "kernelspec": {
      "name": "python3",
      "display_name": "Python 3"
    },
    "language_info": {
      "name": "python"
    }
  },
  "cells": [
    {
      "cell_type": "markdown",
      "metadata": {
        "id": "view-in-github",
        "colab_type": "text"
      },
      "source": [
        "<a href=\"https://colab.research.google.com/github/Raiko-bot/Taller4/blob/main/Taller4.ipynb\" target=\"_parent\"><img src=\"https://colab.research.google.com/assets/colab-badge.svg\" alt=\"Open In Colab\"/></a>"
      ]
    },
    {
      "cell_type": "markdown",
      "source": [
        "\n",
        "# Algoritmo\n",
        "1. Inicio.\n",
        "2. Crear lista notas.\n",
        "3. Mostrar bienvenida.\n",
        "4. Ingreso de Datos:\n",
        "5. Repetir mientras el usuario desee agregar notas:\n",
        "6. Solicitar confirmación para agregar nota.\n",
        "7. Si confirma: Obtener calificación y porcentaje.\n",
        "8. Añadir a la lista notas.\n",
        "9. Mostrar confirmación.\n",
        "10. Si no confirma: Salir del bucle.\n",
        "11. Si es una respuesta inválida: Mostrar error.\n",
        "12. Mostrar Notas: Mostrar mensaje de lista de notas.\n",
        "13. Mostrar encabezado. Mostrar cada nota con su porcentaje.\n",
        "14. Inicializar suma_ponderada y suma_pesos en 0. Para cada nota y porcentaje:\n",
        "15. Calcular producto y sumar a suma_ponderada.\n",
        "16. Sumar porcentaje a suma_pesos.\n",
        "17. Calcular promedio ponderado.\n",
        "18. Mostrar promedio ponderado.\n",
        "19. fin."
      ],
      "metadata": {
        "id": "R8DvWkBhbMfp"
      }
    },
    {
      "cell_type": "markdown",
      "source": [
        "# pseudocodigo\n",
        "\n",
        "\n",
        "\n",
        "```\n",
        "Start\n",
        "  notas = empty list\n",
        "  agregar_mas = true\n",
        "  suma_ponderada = 0\n",
        "  suma_pesos = 0\n",
        "  promedio_ponderado = 0\n",
        "\n",
        "  Display \"Bienvenido a la calculadora de Promedio Ponderado\"\n",
        "\n",
        "  While add_more is true\n",
        "    Display \"¿Desea agregar una nota? (s/n):\"\n",
        "    Read user_input\n",
        "\n",
        "    If user_input is \"s\"\n",
        "      Display \"Ingresar la calificación de la nota:\"\n",
        "      Read nota\n",
        "      Display \"Ingrese el respectivo porcentaje de la nota:\"\n",
        "      Read porcentaje\n",
        "      Add [nota, percentage] to notas\n",
        "      Display \"nota agregada con éxito\"\n",
        "\n",
        "    Else if user_input is \"n\"\n",
        "      add_more = false\n",
        "      Display \"Lista de notas Agregadas:\"\n",
        "      Display \"nota          peso\"\n",
        "      For each i in the range of the length of notas\n",
        "        Display i+1, notas[i][0], \"%\", notas[i][1]\n",
        "\n",
        "    Else\n",
        "      Display \"Valor no válido.\"\n",
        "\n",
        "    Display new line\n",
        "\n",
        "  For each nota, porcentaje in notas\n",
        "    suma_ponderada = suma_ponderada + nota * porcentaje\n",
        "    suma_pesos = suma_pesos + percentage\n",
        "\n",
        "  promedio_ponderado = suma_ponderada / suma_pesos\n",
        "\n",
        "  Display \"El promedio ponderado es:\", promedio_ponderado\n",
        "End\n",
        "```\n",
        "\n",
        "\n",
        "\n"
      ],
      "metadata": {
        "id": "cAqh39zEdlZQ"
      }
    },
    {
      "cell_type": "markdown",
      "source": [
        "# Codigo en PYTHON"
      ],
      "metadata": {
        "id": "PndlzxGMe_N1"
      }
    },
    {
      "cell_type": "code",
      "execution_count": 24,
      "metadata": {
        "colab": {
          "base_uri": "https://localhost:8080/"
        },
        "id": "kntDbfk6LZNz",
        "outputId": "9d36745b-99f4-45dc-ec7b-c37535547bf9"
      },
      "outputs": [
        {
          "output_type": "stream",
          "name": "stdout",
          "text": [
            "Bienvenido a la calculadora de Promedio Ponderado \n",
            "¿Desea agregar una nota? (s/n): s\n",
            "Ingresar la calificación de la nota: 3.8\n",
            "Ingrese el respectivo porcentaje de la nota: 40\n",
            "nota agregada con éxito\n",
            "\n",
            "\n",
            "¿Desea agregar una nota? (s/n): s\n",
            "Ingresar la calificación de la nota: 4.2\n",
            "Ingrese el respectivo porcentaje de la nota: 35\n",
            "nota agregada con éxito\n",
            "\n",
            "\n",
            "¿Desea agregar una nota? (s/n): s\n",
            "Ingresar la calificación de la nota: 4\n",
            "Ingrese el respectivo porcentaje de la nota: 50\n",
            "nota agregada con éxito\n",
            "\n",
            "\n",
            "¿Desea agregar una nota? (s/n): n\n",
            "Lista de notas Agregadas: \n",
            "\n",
            "nota \t\t\tpeso\n",
            "1. 3.8 \t\t\t%40.0\n",
            "2. 4.2 \t\t\t%35.0\n",
            "3. 4.0 \t\t\t%50.0\n",
            "\n",
            "\n",
            "El promedio ponderado es: 3.992\n"
          ]
        }
      ],
      "source": [
        "# Problema #2: Calculadora de Promedio Ponderado\n",
        "notas = []\n",
        "add_more = True\n",
        "print(\"Bienvenido a la calculadora de Promedio Ponderado \")\n",
        "while add_more:\n",
        "  user_input = (input(\"¿Desea agregar una nota? (s/n): \"))\n",
        "  if user_input == \"s\":\n",
        "    nota = float(input(\"Ingresar la calificación de la nota: \"))\n",
        "    porcentaje = float(input(\"Ingrese el respectivo porcentaje de la nota: \"))\n",
        "    notas.append([nota, porcentaje])\n",
        "    print(\"nota agregada con éxito\")\n",
        "  elif user_input == \"n\":\n",
        "    add_more = False\n",
        "    print(\"Lista de notas Agregadas: \\n\")\n",
        "    print(\"nota \\t\\t\\tpeso\")\n",
        "    for i in range(len(notas)):\n",
        "      print(f\"{i+1}. {notas[i][0]} \\t\\t\\t%{notas[i][1]}\")\n",
        "  else:\n",
        "    print(\"Valor no válido.\")\n",
        "  print(\"\\n\")\n",
        "\n",
        "suma_ponderada = 0\n",
        "suma_pesos = 0\n",
        "\n",
        "for nota, porcentaje in notas:\n",
        "  suma_ponderada += nota * porcentaje\n",
        "  suma_pesos += porcentaje\n",
        "\n",
        "promedio_ponderado = suma_ponderada / suma_pesos\n",
        "\n",
        "print(f\"El promedio ponderado es: {promedio_ponderado}\")\n",
        "\n",
        "\n",
        "\n"
      ]
    },
    {
      "cell_type": "markdown",
      "source": [],
      "metadata": {
        "id": "vCERCs9MfMyT"
      }
    },
    {
      "cell_type": "markdown",
      "source": [
        "# Algoritmo\n",
        "1. inicio\n",
        "2. Usar la libreria ramdon para generar un resultado, ya sea cara o sello.\n",
        "3. ingresar cara o sello (cara = 0 y sello = 1)\n",
        "4. si el resultado del modulo es igual al valor ingresado ,entonces, mostrar que ganaste y mostrar cuantos puntos llevas acumulados, y vuelve a repetirse el ciclo de juego, de lo contrario, el ciclo de juego finalizara mostrando los puntos acumulados.\n",
        "5. fin\n"
      ],
      "metadata": {
        "id": "q_BmccjXWmXi"
      }
    },
    {
      "cell_type": "markdown",
      "source": [
        "# Codigo en PYTHON"
      ],
      "metadata": {
        "id": "2VTqePmNfN-6"
      }
    },
    {
      "cell_type": "code",
      "source": [
        "from pickle import STRING\n",
        "\n",
        "import random\n",
        "cara = 0\n",
        "sello = 1\n",
        "print(\"Bienvenido al juego de Sellos y Caras\")\n",
        "print(\"intrucciones: para -cara- ingresaras 0 y para -sello- ingresaras 1\")\n",
        "cara_sello = [0, 1]\n",
        "gaming = True\n",
        "points = 0\n",
        "lifes = 3\n",
        "while gaming:\n",
        "  machine = random.choice(cara_sello)\n",
        "  user_input = int(input(\"Ingrese cara o sellos segun las intrucciones dadas: \"))\n",
        "  if machine == user_input:\n",
        "    print(\"Ganaste!\")\n",
        "    points += 1\n",
        "    print(f\"Puntos: {points}\\n\")\n",
        "  else:\n",
        "    lifes -= 1\n",
        "    print(f\"Te quedan {lifes} vidas\")\n",
        "    if lifes == 0:\n",
        "      print(\"Juego terminado\")\n",
        "      print(f\"Lograste {points} puntos\")\n",
        "      continue_game = input(\"¿Desea continuar jugando? (s/n): \")\n",
        "      if continue_game == \"n\":\n",
        "        gaming = False\n",
        "      points = 0"
      ],
      "metadata": {
        "colab": {
          "base_uri": "https://localhost:8080/"
        },
        "id": "J3uqkTp2O9p1",
        "outputId": "b14cb9de-78ac-4d09-f386-00b408e705f5"
      },
      "execution_count": 21,
      "outputs": [
        {
          "name": "stdout",
          "output_type": "stream",
          "text": [
            "Bienvenido al juego de Sellos y Caras\n",
            "intrucciones: para -cara- ingresaras 0 y para -sello- ingresaras 1\n",
            "Ingrese cara o sellos segun las intrucciones dadas: 0\n",
            "Ganaste!\n",
            "Puntos: 1\n",
            "\n",
            "Ingrese cara o sellos segun las intrucciones dadas: 0\n",
            "Ganaste!\n",
            "Puntos: 2\n",
            "\n",
            "Ingrese cara o sellos segun las intrucciones dadas: 1\n",
            "Ganaste!\n",
            "Puntos: 3\n",
            "\n",
            "Ingrese cara o sellos segun las intrucciones dadas: 1\n",
            "Ganaste!\n",
            "Puntos: 4\n",
            "\n",
            "Ingrese cara o sellos segun las intrucciones dadas: 0\n",
            "Te quedan 2 vidas\n",
            "Ingrese cara o sellos segun las intrucciones dadas: 0\n",
            "Te quedan 1 vidas\n",
            "Ingrese cara o sellos segun las intrucciones dadas: 0\n",
            "Ganaste!\n",
            "Puntos: 5\n",
            "\n",
            "Ingrese cara o sellos segun las intrucciones dadas: 0\n",
            "Ganaste!\n",
            "Puntos: 6\n",
            "\n",
            "Ingrese cara o sellos segun las intrucciones dadas: 0\n",
            "Ganaste!\n",
            "Puntos: 7\n",
            "\n",
            "Ingrese cara o sellos segun las intrucciones dadas: 0\n",
            "Ganaste!\n",
            "Puntos: 8\n",
            "\n",
            "Ingrese cara o sellos segun las intrucciones dadas: 0\n",
            "Ganaste!\n",
            "Puntos: 9\n",
            "\n",
            "Ingrese cara o sellos segun las intrucciones dadas: 1\n",
            "Te quedan 0 vidas\n",
            "Juego terminado\n",
            "Lograste 9 puntos\n",
            "¿Desea continuar jugando? (s/n): n\n"
          ]
        }
      ]
    },
    {
      "cell_type": "code",
      "source": [],
      "metadata": {
        "id": "MhQu9PvHUoMD"
      },
      "execution_count": null,
      "outputs": []
    }
  ]
}